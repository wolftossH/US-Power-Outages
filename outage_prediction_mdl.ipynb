{
 "cells": [
  {
   "cell_type": "markdown",
   "metadata": {
    "id": "eEk6SL2GomQ3"
   },
   "source": [
    "# Power Outages"
   ]
  },
  {
   "cell_type": "markdown",
   "metadata": {
    "id": "T0QwGW58omQ3"
   },
   "source": [
    "# Summary of Findings\n",
    "\n",
    "\n",
    "### Introduction\n",
    "\n",
    "This dataset contains the power outages in the US from 2000 to 2016. It includes regional climate information, outage events information (start, end, duration, restoration, etc.), electricity consumption, economic characteristics, and land-use characteristics. The question we are going to answer is predicting whether a power outage is major or not. This problem is a classification problem. Our target variable is “major outage” and the evaluation metric we are using is accuracy and recall score. By investigating some charactersistics in the dataset, we can find correlations between power outage and the other characteristics in the dataset.\n",
    "\n",
    "### Baseline Model\n",
    "Our original dataset consisted of 53 features. In our baseline model we considered 13 features, of which 3 were categorical (cause, postal code, and NERC region), 9 were quantitative features (anomaly level, utility contribution, utility sector income, customers, sales, rural/urban population densities and inland states), and 1 ordinal feature that is “month”. Our evaluation metric was accuracy and recall. We observed that the model performance was decent and not the best. This is because our recall score was quite low. Also, our training and test accuracy could have been better.\n",
    "\n",
    "### Final Model\n",
    "We feature engineered certain variables by standardizing 2 features (anomaly level and utility sector income) to the month and 5 features (total customers, population, total sales, urban population density, rural population density) to the postal code. This will make things accurate and uniform across the board. We chose a classification model and used GridSearchCV to find the best paramters for our Random Forest Classifier which worked best to be 'forestmax_depth' = 15/height of the tree & forestn_estimators = 11 or number of trees in the forest\n",
    "\n",
    "### Fairness Evaluation\n",
    "We want to explore whether my model is fairer for coastal or inland state.\n",
    "\n",
    "Null hypothesis: The states that are coastal suffered the major outage as those that are inland\n",
    "\n",
    "Alternative hypothesis: The states that are coastline have suffered more major outages than those that are inland\n",
    "\n",
    "Test statistics: True Positive Parity/Recall\n",
    "\n",
    "Significance level: 5%\n",
    "\n",
    "We do not reject the null hypothesis since the p-value is 0.34 which means that our model might not bias towards coastal states to have more major outage than inland states"
   ]
  },
  {
   "cell_type": "markdown",
   "metadata": {
    "id": "IgwPPTCxomQ3"
   },
   "source": [
    "# Code"
   ]
  },
  {
   "cell_type": "code",
   "execution_count": 2,
   "metadata": {
    "id": "rV2xOGFhomQ4"
   },
   "outputs": [],
   "source": [
    "import matplotlib.pyplot as plt\n",
    "import numpy as np\n",
    "import os\n",
    "import pandas as pd\n",
    "import seaborn as sns\n",
    "\n",
    "from sklearn.decomposition import PCA\n",
    "from sklearn.model_selection import cross_val_score\n",
    "from sklearn.model_selection import GridSearchCV\n",
    "from sklearn.preprocessing import PolynomialFeatures\n",
    "from sklearn.preprocessing import FunctionTransformer\n",
    "from sklearn.preprocessing import OneHotEncoder\n",
    "from sklearn.pipeline import Pipeline\n",
    "from sklearn.compose import ColumnTransformer\n",
    "from sklearn.impute import SimpleImputer\n",
    "\n",
    "\n",
    "# Classification\n",
    "from sklearn.ensemble import RandomForestClassifier\n",
    "\n",
    "from sklearn.model_selection import train_test_split\n",
    "from sklearn.neighbors import KNeighborsClassifier\n",
    "from sklearn import metrics\n",
    "from sklearn.preprocessing import QuantileTransformer\n",
    "\n",
    "%matplotlib inline\n",
    "%config InlineBackend.figure_format = 'retina'  # Higher resolution figures"
   ]
  },
  {
   "cell_type": "code",
   "execution_count": 3,
   "metadata": {
    "colab": {
     "base_uri": "https://localhost:8080/",
     "height": 657
    },
    "id": "SC0m_hqGomQ4",
    "outputId": "6578d471-da77-4bc6-8aae-8a3d881186ac"
   },
   "outputs": [
    {
     "data": {
      "text/html": [
       "<div>\n",
       "<style scoped>\n",
       "    .dataframe tbody tr th:only-of-type {\n",
       "        vertical-align: middle;\n",
       "    }\n",
       "\n",
       "    .dataframe tbody tr th {\n",
       "        vertical-align: top;\n",
       "    }\n",
       "\n",
       "    .dataframe thead th {\n",
       "        text-align: right;\n",
       "    }\n",
       "</style>\n",
       "<table border=\"1\" class=\"dataframe\">\n",
       "  <thead>\n",
       "    <tr style=\"text-align: right;\">\n",
       "      <th></th>\n",
       "      <th>OBS</th>\n",
       "      <th>YEAR</th>\n",
       "      <th>MONTH</th>\n",
       "      <th>U.S._STATE</th>\n",
       "      <th>POSTAL.CODE</th>\n",
       "      <th>NERC.REGION</th>\n",
       "      <th>CLIMATE.REGION</th>\n",
       "      <th>ANOMALY.LEVEL</th>\n",
       "      <th>CLIMATE.CATEGORY</th>\n",
       "      <th>CAUSE.CATEGORY</th>\n",
       "      <th>CAUSE.CATEGORY.DETAIL</th>\n",
       "      <th>HURRICANE.NAMES</th>\n",
       "      <th>OUTAGE.DURATION</th>\n",
       "      <th>DEMAND.LOSS.MW</th>\n",
       "      <th>CUSTOMERS.AFFECTED</th>\n",
       "      <th>RES.PRICE</th>\n",
       "      <th>COM.PRICE</th>\n",
       "      <th>IND.PRICE</th>\n",
       "      <th>TOTAL.PRICE</th>\n",
       "      <th>RES.SALES</th>\n",
       "      <th>COM.SALES</th>\n",
       "      <th>IND.SALES</th>\n",
       "      <th>TOTAL.SALES</th>\n",
       "      <th>RES.PERCEN</th>\n",
       "      <th>COM.PERCEN</th>\n",
       "      <th>IND.PERCEN</th>\n",
       "      <th>RES.CUSTOMERS</th>\n",
       "      <th>COM.CUSTOMERS</th>\n",
       "      <th>IND.CUSTOMERS</th>\n",
       "      <th>TOTAL.CUSTOMERS</th>\n",
       "      <th>RES.CUST.PCT</th>\n",
       "      <th>COM.CUST.PCT</th>\n",
       "      <th>IND.CUST.PCT</th>\n",
       "      <th>PC.REALGSP.STATE</th>\n",
       "      <th>PC.REALGSP.USA</th>\n",
       "      <th>PC.REALGSP.REL</th>\n",
       "      <th>PC.REALGSP.CHANGE</th>\n",
       "      <th>UTIL.REALGSP</th>\n",
       "      <th>TOTAL.REALGSP</th>\n",
       "      <th>UTIL.CONTRI</th>\n",
       "      <th>PI.UTIL.OFUSA</th>\n",
       "      <th>POPULATION</th>\n",
       "      <th>POPPCT_URBAN</th>\n",
       "      <th>POPPCT_UC</th>\n",
       "      <th>POPDEN_URBAN</th>\n",
       "      <th>POPDEN_UC</th>\n",
       "      <th>POPDEN_RURAL</th>\n",
       "      <th>AREAPCT_URBAN</th>\n",
       "      <th>AREAPCT_UC</th>\n",
       "      <th>PCT_LAND</th>\n",
       "      <th>PCT_WATER_TOT</th>\n",
       "      <th>PCT_WATER_INLAND</th>\n",
       "      <th>OUTAGE.START</th>\n",
       "      <th>OUTAGE.RESTORATION</th>\n",
       "    </tr>\n",
       "  </thead>\n",
       "  <tbody>\n",
       "    <tr>\n",
       "      <th>0</th>\n",
       "      <td>811</td>\n",
       "      <td>2000</td>\n",
       "      <td>1</td>\n",
       "      <td>South Carolina</td>\n",
       "      <td>SC</td>\n",
       "      <td>SERC</td>\n",
       "      <td>Southeast</td>\n",
       "      <td>-1.6</td>\n",
       "      <td>cold</td>\n",
       "      <td>severe weather</td>\n",
       "      <td>winter storm</td>\n",
       "      <td>NaN</td>\n",
       "      <td>7440.0</td>\n",
       "      <td>450.0</td>\n",
       "      <td>133000.0</td>\n",
       "      <td>7.38</td>\n",
       "      <td>6.37</td>\n",
       "      <td>3.64</td>\n",
       "      <td>5.60</td>\n",
       "      <td>2400821.0</td>\n",
       "      <td>1350477.0</td>\n",
       "      <td>2759297.0</td>\n",
       "      <td>6586660.0</td>\n",
       "      <td>36.449748</td>\n",
       "      <td>20.503214</td>\n",
       "      <td>41.892203</td>\n",
       "      <td>1764298.0</td>\n",
       "      <td>274003.0</td>\n",
       "      <td>5077.0</td>\n",
       "      <td>2059496.0</td>\n",
       "      <td>85.666493</td>\n",
       "      <td>13.304372</td>\n",
       "      <td>0.246517</td>\n",
       "      <td>36388.0</td>\n",
       "      <td>44745.0</td>\n",
       "      <td>0.813231</td>\n",
       "      <td>1.1</td>\n",
       "      <td>5210.0</td>\n",
       "      <td>146434.0</td>\n",
       "      <td>3.557917</td>\n",
       "      <td>1.7</td>\n",
       "      <td>4024223.0</td>\n",
       "      <td>66.33</td>\n",
       "      <td>10.55</td>\n",
       "      <td>1288.1</td>\n",
       "      <td>1117.1</td>\n",
       "      <td>56.3</td>\n",
       "      <td>7.92</td>\n",
       "      <td>1.45</td>\n",
       "      <td>93.881949</td>\n",
       "      <td>6.121174</td>\n",
       "      <td>3.322923</td>\n",
       "      <td>2000-01-23 08:00:00</td>\n",
       "      <td>2000-01-28 12:00:00</td>\n",
       "    </tr>\n",
       "    <tr>\n",
       "      <th>1</th>\n",
       "      <td>813</td>\n",
       "      <td>2000</td>\n",
       "      <td>1</td>\n",
       "      <td>South Carolina</td>\n",
       "      <td>SC</td>\n",
       "      <td>SERC</td>\n",
       "      <td>Southeast</td>\n",
       "      <td>-1.6</td>\n",
       "      <td>cold</td>\n",
       "      <td>severe weather</td>\n",
       "      <td>winter storm</td>\n",
       "      <td>NaN</td>\n",
       "      <td>6600.0</td>\n",
       "      <td>300.0</td>\n",
       "      <td>81000.0</td>\n",
       "      <td>7.38</td>\n",
       "      <td>6.37</td>\n",
       "      <td>3.64</td>\n",
       "      <td>5.60</td>\n",
       "      <td>2400821.0</td>\n",
       "      <td>1350477.0</td>\n",
       "      <td>2759297.0</td>\n",
       "      <td>6586660.0</td>\n",
       "      <td>36.449748</td>\n",
       "      <td>20.503214</td>\n",
       "      <td>41.892203</td>\n",
       "      <td>1764298.0</td>\n",
       "      <td>274003.0</td>\n",
       "      <td>5077.0</td>\n",
       "      <td>2059496.0</td>\n",
       "      <td>85.666493</td>\n",
       "      <td>13.304372</td>\n",
       "      <td>0.246517</td>\n",
       "      <td>36388.0</td>\n",
       "      <td>44745.0</td>\n",
       "      <td>0.813231</td>\n",
       "      <td>1.1</td>\n",
       "      <td>5210.0</td>\n",
       "      <td>146434.0</td>\n",
       "      <td>3.557917</td>\n",
       "      <td>1.7</td>\n",
       "      <td>4024223.0</td>\n",
       "      <td>66.33</td>\n",
       "      <td>10.55</td>\n",
       "      <td>1288.1</td>\n",
       "      <td>1117.1</td>\n",
       "      <td>56.3</td>\n",
       "      <td>7.92</td>\n",
       "      <td>1.45</td>\n",
       "      <td>93.881949</td>\n",
       "      <td>6.121174</td>\n",
       "      <td>3.322923</td>\n",
       "      <td>2000-01-29 22:00:00</td>\n",
       "      <td>2000-02-03 12:00:00</td>\n",
       "    </tr>\n",
       "    <tr>\n",
       "      <th>2</th>\n",
       "      <td>1464</td>\n",
       "      <td>2000</td>\n",
       "      <td>3</td>\n",
       "      <td>Maine</td>\n",
       "      <td>ME</td>\n",
       "      <td>NPCC</td>\n",
       "      <td>Northeast</td>\n",
       "      <td>-1.1</td>\n",
       "      <td>cold</td>\n",
       "      <td>intentional attack</td>\n",
       "      <td>vandalism</td>\n",
       "      <td>NaN</td>\n",
       "      <td>NaN</td>\n",
       "      <td>NaN</td>\n",
       "      <td>NaN</td>\n",
       "      <td>12.92</td>\n",
       "      <td>9.86</td>\n",
       "      <td>7.07</td>\n",
       "      <td>9.97</td>\n",
       "      <td>281853.0</td>\n",
       "      <td>292566.0</td>\n",
       "      <td>269741.0</td>\n",
       "      <td>864735.0</td>\n",
       "      <td>32.594147</td>\n",
       "      <td>33.833024</td>\n",
       "      <td>31.193487</td>\n",
       "      <td>650326.0</td>\n",
       "      <td>102433.0</td>\n",
       "      <td>1966.0</td>\n",
       "      <td>770617.0</td>\n",
       "      <td>84.390300</td>\n",
       "      <td>13.292336</td>\n",
       "      <td>0.255120</td>\n",
       "      <td>36202.0</td>\n",
       "      <td>44745.0</td>\n",
       "      <td>0.809074</td>\n",
       "      <td>3.1</td>\n",
       "      <td>1095.0</td>\n",
       "      <td>46233.0</td>\n",
       "      <td>2.368438</td>\n",
       "      <td>0.3</td>\n",
       "      <td>1277072.0</td>\n",
       "      <td>38.66</td>\n",
       "      <td>12.45</td>\n",
       "      <td>1428.0</td>\n",
       "      <td>1360.0</td>\n",
       "      <td>26.7</td>\n",
       "      <td>1.17</td>\n",
       "      <td>0.39</td>\n",
       "      <td>87.176371</td>\n",
       "      <td>12.823629</td>\n",
       "      <td>6.540418</td>\n",
       "      <td>2000-03-14 21:06:00</td>\n",
       "      <td>NaT</td>\n",
       "    </tr>\n",
       "    <tr>\n",
       "      <th>3</th>\n",
       "      <td>1360</td>\n",
       "      <td>2000</td>\n",
       "      <td>3</td>\n",
       "      <td>New Mexico</td>\n",
       "      <td>NM</td>\n",
       "      <td>WECC</td>\n",
       "      <td>Southwest</td>\n",
       "      <td>-1.1</td>\n",
       "      <td>cold</td>\n",
       "      <td>system operability disruption</td>\n",
       "      <td>transmission interruption</td>\n",
       "      <td>NaN</td>\n",
       "      <td>0.0</td>\n",
       "      <td>1040.0</td>\n",
       "      <td>500000.0</td>\n",
       "      <td>8.31</td>\n",
       "      <td>7.03</td>\n",
       "      <td>4.13</td>\n",
       "      <td>6.35</td>\n",
       "      <td>369300.0</td>\n",
       "      <td>495042.0</td>\n",
       "      <td>452568.0</td>\n",
       "      <td>1437691.0</td>\n",
       "      <td>25.687022</td>\n",
       "      <td>34.433129</td>\n",
       "      <td>31.478809</td>\n",
       "      <td>728046.0</td>\n",
       "      <td>113364.0</td>\n",
       "      <td>1493.0</td>\n",
       "      <td>853771.0</td>\n",
       "      <td>85.274154</td>\n",
       "      <td>13.278034</td>\n",
       "      <td>0.174871</td>\n",
       "      <td>37950.0</td>\n",
       "      <td>44745.0</td>\n",
       "      <td>0.848139</td>\n",
       "      <td>1.3</td>\n",
       "      <td>1583.0</td>\n",
       "      <td>69116.0</td>\n",
       "      <td>2.290352</td>\n",
       "      <td>0.5</td>\n",
       "      <td>1821204.0</td>\n",
       "      <td>77.43</td>\n",
       "      <td>23.68</td>\n",
       "      <td>1928.5</td>\n",
       "      <td>1446.2</td>\n",
       "      <td>3.9</td>\n",
       "      <td>0.68</td>\n",
       "      <td>0.28</td>\n",
       "      <td>99.759849</td>\n",
       "      <td>0.240151</td>\n",
       "      <td>0.240151</td>\n",
       "      <td>2000-03-18 19:08:00</td>\n",
       "      <td>2000-03-18 19:08:00</td>\n",
       "    </tr>\n",
       "    <tr>\n",
       "      <th>4</th>\n",
       "      <td>236</td>\n",
       "      <td>2000</td>\n",
       "      <td>3</td>\n",
       "      <td>Texas</td>\n",
       "      <td>TX</td>\n",
       "      <td>TRE</td>\n",
       "      <td>South</td>\n",
       "      <td>-1.1</td>\n",
       "      <td>cold</td>\n",
       "      <td>system operability disruption</td>\n",
       "      <td>transmission interruption</td>\n",
       "      <td>NaN</td>\n",
       "      <td>70.0</td>\n",
       "      <td>400.0</td>\n",
       "      <td>100000.0</td>\n",
       "      <td>7.43</td>\n",
       "      <td>6.80</td>\n",
       "      <td>4.01</td>\n",
       "      <td>5.91</td>\n",
       "      <td>6507440.0</td>\n",
       "      <td>5925328.0</td>\n",
       "      <td>8359654.0</td>\n",
       "      <td>21870637.0</td>\n",
       "      <td>29.754232</td>\n",
       "      <td>27.092617</td>\n",
       "      <td>38.223185</td>\n",
       "      <td>8023266.0</td>\n",
       "      <td>1093414.0</td>\n",
       "      <td>61280.0</td>\n",
       "      <td>9299829.0</td>\n",
       "      <td>86.273264</td>\n",
       "      <td>11.757356</td>\n",
       "      <td>0.658937</td>\n",
       "      <td>45102.0</td>\n",
       "      <td>44745.0</td>\n",
       "      <td>1.007979</td>\n",
       "      <td>1.7</td>\n",
       "      <td>30908.0</td>\n",
       "      <td>944631.0</td>\n",
       "      <td>3.271965</td>\n",
       "      <td>10.3</td>\n",
       "      <td>20944499.0</td>\n",
       "      <td>84.70</td>\n",
       "      <td>9.35</td>\n",
       "      <td>2435.3</td>\n",
       "      <td>1539.9</td>\n",
       "      <td>15.2</td>\n",
       "      <td>3.35</td>\n",
       "      <td>0.58</td>\n",
       "      <td>97.258336</td>\n",
       "      <td>2.742036</td>\n",
       "      <td>2.090873</td>\n",
       "      <td>2000-03-18 16:00:00</td>\n",
       "      <td>2000-03-18 17:10:00</td>\n",
       "    </tr>\n",
       "    <tr>\n",
       "      <th>...</th>\n",
       "      <td>...</td>\n",
       "      <td>...</td>\n",
       "      <td>...</td>\n",
       "      <td>...</td>\n",
       "      <td>...</td>\n",
       "      <td>...</td>\n",
       "      <td>...</td>\n",
       "      <td>...</td>\n",
       "      <td>...</td>\n",
       "      <td>...</td>\n",
       "      <td>...</td>\n",
       "      <td>...</td>\n",
       "      <td>...</td>\n",
       "      <td>...</td>\n",
       "      <td>...</td>\n",
       "      <td>...</td>\n",
       "      <td>...</td>\n",
       "      <td>...</td>\n",
       "      <td>...</td>\n",
       "      <td>...</td>\n",
       "      <td>...</td>\n",
       "      <td>...</td>\n",
       "      <td>...</td>\n",
       "      <td>...</td>\n",
       "      <td>...</td>\n",
       "      <td>...</td>\n",
       "      <td>...</td>\n",
       "      <td>...</td>\n",
       "      <td>...</td>\n",
       "      <td>...</td>\n",
       "      <td>...</td>\n",
       "      <td>...</td>\n",
       "      <td>...</td>\n",
       "      <td>...</td>\n",
       "      <td>...</td>\n",
       "      <td>...</td>\n",
       "      <td>...</td>\n",
       "      <td>...</td>\n",
       "      <td>...</td>\n",
       "      <td>...</td>\n",
       "      <td>...</td>\n",
       "      <td>...</td>\n",
       "      <td>...</td>\n",
       "      <td>...</td>\n",
       "      <td>...</td>\n",
       "      <td>...</td>\n",
       "      <td>...</td>\n",
       "      <td>...</td>\n",
       "      <td>...</td>\n",
       "      <td>...</td>\n",
       "      <td>...</td>\n",
       "      <td>...</td>\n",
       "      <td>...</td>\n",
       "      <td>...</td>\n",
       "    </tr>\n",
       "    <tr>\n",
       "      <th>1529</th>\n",
       "      <td>606</td>\n",
       "      <td>2016</td>\n",
       "      <td>7</td>\n",
       "      <td>Pennsylvania</td>\n",
       "      <td>PA</td>\n",
       "      <td>RFC</td>\n",
       "      <td>Northeast</td>\n",
       "      <td>-0.3</td>\n",
       "      <td>normal</td>\n",
       "      <td>system operability disruption</td>\n",
       "      <td>voltage reduction</td>\n",
       "      <td>NaN</td>\n",
       "      <td>278.0</td>\n",
       "      <td>87.0</td>\n",
       "      <td>NaN</td>\n",
       "      <td>NaN</td>\n",
       "      <td>NaN</td>\n",
       "      <td>NaN</td>\n",
       "      <td>NaN</td>\n",
       "      <td>NaN</td>\n",
       "      <td>NaN</td>\n",
       "      <td>NaN</td>\n",
       "      <td>NaN</td>\n",
       "      <td>NaN</td>\n",
       "      <td>NaN</td>\n",
       "      <td>NaN</td>\n",
       "      <td>5335555.0</td>\n",
       "      <td>696080.0</td>\n",
       "      <td>23372.0</td>\n",
       "      <td>6055013.0</td>\n",
       "      <td>88.117978</td>\n",
       "      <td>11.495929</td>\n",
       "      <td>0.385994</td>\n",
       "      <td>50978.0</td>\n",
       "      <td>50660.0</td>\n",
       "      <td>1.006277</td>\n",
       "      <td>4.2</td>\n",
       "      <td>10659.0</td>\n",
       "      <td>651857.0</td>\n",
       "      <td>1.635175</td>\n",
       "      <td>4.1</td>\n",
       "      <td>12787085.0</td>\n",
       "      <td>78.66</td>\n",
       "      <td>7.98</td>\n",
       "      <td>2123.4</td>\n",
       "      <td>1528.6</td>\n",
       "      <td>67.7</td>\n",
       "      <td>10.52</td>\n",
       "      <td>1.48</td>\n",
       "      <td>97.153342</td>\n",
       "      <td>2.848830</td>\n",
       "      <td>1.222478</td>\n",
       "      <td>2016-07-23 15:15:00</td>\n",
       "      <td>2016-07-23 19:53:00</td>\n",
       "    </tr>\n",
       "    <tr>\n",
       "      <th>1530</th>\n",
       "      <td>37</td>\n",
       "      <td>2016</td>\n",
       "      <td>7</td>\n",
       "      <td>Tennessee</td>\n",
       "      <td>TN</td>\n",
       "      <td>SERC</td>\n",
       "      <td>Central</td>\n",
       "      <td>-0.3</td>\n",
       "      <td>normal</td>\n",
       "      <td>system operability disruption</td>\n",
       "      <td>public appeal</td>\n",
       "      <td>NaN</td>\n",
       "      <td>NaN</td>\n",
       "      <td>NaN</td>\n",
       "      <td>NaN</td>\n",
       "      <td>NaN</td>\n",
       "      <td>NaN</td>\n",
       "      <td>NaN</td>\n",
       "      <td>NaN</td>\n",
       "      <td>NaN</td>\n",
       "      <td>NaN</td>\n",
       "      <td>NaN</td>\n",
       "      <td>NaN</td>\n",
       "      <td>NaN</td>\n",
       "      <td>NaN</td>\n",
       "      <td>NaN</td>\n",
       "      <td>2812287.0</td>\n",
       "      <td>480032.0</td>\n",
       "      <td>1193.0</td>\n",
       "      <td>3293512.0</td>\n",
       "      <td>85.388698</td>\n",
       "      <td>14.575080</td>\n",
       "      <td>0.036223</td>\n",
       "      <td>43720.0</td>\n",
       "      <td>50660.0</td>\n",
       "      <td>0.863008</td>\n",
       "      <td>3.0</td>\n",
       "      <td>1813.0</td>\n",
       "      <td>290712.0</td>\n",
       "      <td>0.623641</td>\n",
       "      <td>0.5</td>\n",
       "      <td>6649404.0</td>\n",
       "      <td>66.39</td>\n",
       "      <td>12.02</td>\n",
       "      <td>1450.3</td>\n",
       "      <td>1076.2</td>\n",
       "      <td>55.6</td>\n",
       "      <td>7.05</td>\n",
       "      <td>1.72</td>\n",
       "      <td>97.843109</td>\n",
       "      <td>2.156891</td>\n",
       "      <td>2.156891</td>\n",
       "      <td>2016-07-13 15:00:00</td>\n",
       "      <td>NaT</td>\n",
       "    </tr>\n",
       "    <tr>\n",
       "      <th>1531</th>\n",
       "      <td>172</td>\n",
       "      <td>2016</td>\n",
       "      <td>7</td>\n",
       "      <td>Texas</td>\n",
       "      <td>TX</td>\n",
       "      <td>TRE</td>\n",
       "      <td>South</td>\n",
       "      <td>-0.3</td>\n",
       "      <td>normal</td>\n",
       "      <td>severe weather</td>\n",
       "      <td>NaN</td>\n",
       "      <td>NaN</td>\n",
       "      <td>1455.0</td>\n",
       "      <td>NaN</td>\n",
       "      <td>52000.0</td>\n",
       "      <td>NaN</td>\n",
       "      <td>NaN</td>\n",
       "      <td>NaN</td>\n",
       "      <td>NaN</td>\n",
       "      <td>NaN</td>\n",
       "      <td>NaN</td>\n",
       "      <td>NaN</td>\n",
       "      <td>NaN</td>\n",
       "      <td>NaN</td>\n",
       "      <td>NaN</td>\n",
       "      <td>NaN</td>\n",
       "      <td>10521732.0</td>\n",
       "      <td>1447247.0</td>\n",
       "      <td>105552.0</td>\n",
       "      <td>12074534.0</td>\n",
       "      <td>87.139860</td>\n",
       "      <td>11.985945</td>\n",
       "      <td>0.874170</td>\n",
       "      <td>53104.0</td>\n",
       "      <td>50660.0</td>\n",
       "      <td>1.048243</td>\n",
       "      <td>-1.1</td>\n",
       "      <td>31136.0</td>\n",
       "      <td>1481866.0</td>\n",
       "      <td>2.101135</td>\n",
       "      <td>8.5</td>\n",
       "      <td>27904862.0</td>\n",
       "      <td>84.70</td>\n",
       "      <td>9.35</td>\n",
       "      <td>2435.3</td>\n",
       "      <td>1539.9</td>\n",
       "      <td>15.2</td>\n",
       "      <td>3.35</td>\n",
       "      <td>0.58</td>\n",
       "      <td>97.258336</td>\n",
       "      <td>2.742036</td>\n",
       "      <td>2.090873</td>\n",
       "      <td>2016-07-05 02:45:00</td>\n",
       "      <td>2016-07-06 03:00:00</td>\n",
       "    </tr>\n",
       "    <tr>\n",
       "      <th>1532</th>\n",
       "      <td>219</td>\n",
       "      <td>2016</td>\n",
       "      <td>7</td>\n",
       "      <td>Texas</td>\n",
       "      <td>TX</td>\n",
       "      <td>TRE</td>\n",
       "      <td>South</td>\n",
       "      <td>-0.3</td>\n",
       "      <td>normal</td>\n",
       "      <td>severe weather</td>\n",
       "      <td>NaN</td>\n",
       "      <td>NaN</td>\n",
       "      <td>2655.0</td>\n",
       "      <td>NaN</td>\n",
       "      <td>62000.0</td>\n",
       "      <td>NaN</td>\n",
       "      <td>NaN</td>\n",
       "      <td>NaN</td>\n",
       "      <td>NaN</td>\n",
       "      <td>NaN</td>\n",
       "      <td>NaN</td>\n",
       "      <td>NaN</td>\n",
       "      <td>NaN</td>\n",
       "      <td>NaN</td>\n",
       "      <td>NaN</td>\n",
       "      <td>NaN</td>\n",
       "      <td>10521732.0</td>\n",
       "      <td>1447247.0</td>\n",
       "      <td>105552.0</td>\n",
       "      <td>12074534.0</td>\n",
       "      <td>87.139860</td>\n",
       "      <td>11.985945</td>\n",
       "      <td>0.874170</td>\n",
       "      <td>53104.0</td>\n",
       "      <td>50660.0</td>\n",
       "      <td>1.048243</td>\n",
       "      <td>-1.1</td>\n",
       "      <td>31136.0</td>\n",
       "      <td>1481866.0</td>\n",
       "      <td>2.101135</td>\n",
       "      <td>8.5</td>\n",
       "      <td>27904862.0</td>\n",
       "      <td>84.70</td>\n",
       "      <td>9.35</td>\n",
       "      <td>2435.3</td>\n",
       "      <td>1539.9</td>\n",
       "      <td>15.2</td>\n",
       "      <td>3.35</td>\n",
       "      <td>0.58</td>\n",
       "      <td>97.258336</td>\n",
       "      <td>2.742036</td>\n",
       "      <td>2.090873</td>\n",
       "      <td>2016-07-09 17:45:00</td>\n",
       "      <td>2016-07-11 14:00:00</td>\n",
       "    </tr>\n",
       "    <tr>\n",
       "      <th>1533</th>\n",
       "      <td>418</td>\n",
       "      <td>2016</td>\n",
       "      <td>7</td>\n",
       "      <td>Washington</td>\n",
       "      <td>WA</td>\n",
       "      <td>WECC</td>\n",
       "      <td>Northwest</td>\n",
       "      <td>-0.3</td>\n",
       "      <td>normal</td>\n",
       "      <td>intentional attack</td>\n",
       "      <td>vandalism</td>\n",
       "      <td>NaN</td>\n",
       "      <td>1.0</td>\n",
       "      <td>0.0</td>\n",
       "      <td>0.0</td>\n",
       "      <td>NaN</td>\n",
       "      <td>NaN</td>\n",
       "      <td>NaN</td>\n",
       "      <td>NaN</td>\n",
       "      <td>NaN</td>\n",
       "      <td>NaN</td>\n",
       "      <td>NaN</td>\n",
       "      <td>NaN</td>\n",
       "      <td>NaN</td>\n",
       "      <td>NaN</td>\n",
       "      <td>NaN</td>\n",
       "      <td>2985799.0</td>\n",
       "      <td>367847.0</td>\n",
       "      <td>29012.0</td>\n",
       "      <td>3382664.0</td>\n",
       "      <td>88.267679</td>\n",
       "      <td>10.874476</td>\n",
       "      <td>0.857667</td>\n",
       "      <td>57796.0</td>\n",
       "      <td>50660.0</td>\n",
       "      <td>1.140861</td>\n",
       "      <td>4.3</td>\n",
       "      <td>3504.0</td>\n",
       "      <td>420809.0</td>\n",
       "      <td>0.832682</td>\n",
       "      <td>0.7</td>\n",
       "      <td>7280934.0</td>\n",
       "      <td>84.05</td>\n",
       "      <td>9.08</td>\n",
       "      <td>2380.0</td>\n",
       "      <td>1487.9</td>\n",
       "      <td>16.7</td>\n",
       "      <td>3.57</td>\n",
       "      <td>0.62</td>\n",
       "      <td>93.208786</td>\n",
       "      <td>6.791214</td>\n",
       "      <td>2.405397</td>\n",
       "      <td>2016-07-13 13:00:00</td>\n",
       "      <td>2016-07-13 13:01:00</td>\n",
       "    </tr>\n",
       "  </tbody>\n",
       "</table>\n",
       "<p>1534 rows × 54 columns</p>\n",
       "</div>"
      ],
      "text/plain": [
       "0      OBS  YEAR  ...        OUTAGE.START  OUTAGE.RESTORATION\n",
       "0      811  2000  ... 2000-01-23 08:00:00 2000-01-28 12:00:00\n",
       "1      813  2000  ... 2000-01-29 22:00:00 2000-02-03 12:00:00\n",
       "2     1464  2000  ... 2000-03-14 21:06:00                 NaT\n",
       "3     1360  2000  ... 2000-03-18 19:08:00 2000-03-18 19:08:00\n",
       "4      236  2000  ... 2000-03-18 16:00:00 2000-03-18 17:10:00\n",
       "...    ...   ...  ...                 ...                 ...\n",
       "1529   606  2016  ... 2016-07-23 15:15:00 2016-07-23 19:53:00\n",
       "1530    37  2016  ... 2016-07-13 15:00:00                 NaT\n",
       "1531   172  2016  ... 2016-07-05 02:45:00 2016-07-06 03:00:00\n",
       "1532   219  2016  ... 2016-07-09 17:45:00 2016-07-11 14:00:00\n",
       "1533   418  2016  ... 2016-07-13 13:00:00 2016-07-13 13:01:00\n",
       "\n",
       "[1534 rows x 54 columns]"
      ]
     },
     "execution_count": 3,
     "metadata": {
      "tags": []
     },
     "output_type": "execute_result"
    }
   ],
   "source": [
    "# The given excel file has its first 3 rows to be notes. We cut it out then use the first row of the truncated \n",
    "# dataframe to be convert them to be columns' names\n",
    "org_outage = pd.read_excel('outage.xlsx')\n",
    "df = org_outage.iloc[4:,:].copy().reset_index(drop=True)\n",
    "mod_outage = df.copy()\n",
    "mod_outage.columns = df.iloc[0]\n",
    "# This is for dropping the variables column that only have 1 cell to be units that represent the units of\n",
    "# each column\n",
    "mod_outage = mod_outage.drop(mod_outage.index[0])\n",
    "# this units dictionary is for convenience to use the right unit from each colum\n",
    "units_dict = mod_outage.iloc[:1,:].T.to_dict()[1]\n",
    "outage = mod_outage.iloc[1:,1:].reset_index(drop=True)\n",
    "# merge outage.start, outage restoration date & time \n",
    "outage = outage.assign(\n",
    "    **{'OUTAGE.START' : (outage['OUTAGE.START.DATE'].apply(pd.Timestamp) + \n",
    "outage['OUTAGE.START.TIME'].astype(str).apply(pd.to_timedelta))\n",
    "      , 'OUTAGE.RESTORATION' : (outage['OUTAGE.RESTORATION.DATE'].apply(pd.Timestamp) + \\\n",
    "outage['OUTAGE.RESTORATION.TIME'].astype(str).apply(pd.to_timedelta))}\n",
    ").drop(columns=['OUTAGE.START.DATE','OUTAGE.START.TIME','OUTAGE.RESTORATION.DATE','OUTAGE.RESTORATION.TIME'])\n",
    "\n",
    "# Convert to the right type\n",
    "float_col = ['MONTH','ANOMALY.LEVEL','OUTAGE.DURATION',\n",
    "'DEMAND.LOSS.MW', 'CUSTOMERS.AFFECTED', 'RES.PRICE', 'COM.PRICE',\n",
    "       'IND.PRICE', 'TOTAL.PRICE', 'RES.SALES', 'COM.SALES', 'IND.SALES',\n",
    "       'TOTAL.SALES', 'RES.PERCEN', 'COM.PERCEN', 'IND.PERCEN',\n",
    "       'RES.CUST.PCT', 'COM.CUST.PCT', 'IND.CUST.PCT', 'PC.REALGSP.STATE', \n",
    "       'PC.REALGSP.USA', 'PC.REALGSP.REL', 'PC.REALGSP.CHANGE', 'UTIL.REALGSP',\n",
    "       'TOTAL.REALGSP', 'UTIL.CONTRI', 'PI.UTIL.OFUSA', 'POPULATION', \n",
    "       'POPPCT_URBAN', 'POPPCT_UC', 'POPDEN_URBAN', 'POPDEN_UC',\n",
    "       'POPDEN_RURAL', 'AREAPCT_URBAN', 'AREAPCT_UC', 'PCT_LAND',\n",
    "       'PCT_WATER_TOT', 'PCT_WATER_INLAND','RES.CUSTOMERS', 'COM.CUSTOMERS', 'IND.CUSTOMERS', 'TOTAL.CUSTOMERS']\n",
    "# int_lst = ['RES.CUSTOMERS', 'COM.CUSTOMERS', 'IND.CUSTOMERS', 'TOTAL.CUSTOMERS']\n",
    "outage[float_col] =outage[float_col].astype(float)\n",
    "# outage[int_lst] =outage[int_lst].astype(int)\n",
    "\n",
    "# We then sort by year \n",
    "sort_year = outage.sort_values(['YEAR','MONTH','U.S._STATE']).reset_index(drop=True)\n",
    "sort_year[['CAUSE.CATEGORY.DETAIL','HURRICANE.NAMES']].apply(pd.Series.value_counts).sort_values('CAUSE.CATEGORY.DETAIL')\n",
    "out = sort_year.copy()\n",
    "out"
   ]
  },
  {
   "cell_type": "code",
   "execution_count": 73,
   "metadata": {
    "colab": {
     "base_uri": "https://localhost:8080/",
     "height": 637
    },
    "id": "_xtA2NtzomQ4",
    "outputId": "66e6cde8-4f17-466f-a47a-e317748ded78",
    "scrolled": true
   },
   "outputs": [
    {
     "data": {
      "image/png": "[encoded data removed]",
      "text/plain": [
       "<Figure size 1296x360 with 1 Axes>"
      ]
     },
     "metadata": {
      "image/png": {
       "height": 302,
       "width": 1122
      },
      "needs_background": "light",
      "tags": []
     },
     "output_type": "display_data"
    },
    {
     "data": {
      "image/png": "[encoded data removed]",
      "text/plain": [
       "<Figure size 1296x360 with 2 Axes>"
      ]
     },
     "metadata": {
      "image/png": {
       "height": 318,
       "width": 1045
      },
      "needs_background": "light",
      "tags": []
     },
     "output_type": "display_data"
    }
   ],
   "source": [
    "# univariate analysis to determine which outages are major\n",
    "figure, axis = plt.subplots(figsize=(18, 5))\n",
    "box = sort_year[sort_year['OUTAGE.DURATION']<40000]['OUTAGE.DURATION'].plot.box(vert=False)\n",
    "plt.show()\n",
    "\n",
    "# Get the outage duration then calculate the upper quartile \n",
    "data = sort_year.copy()['OUTAGE.DURATION'].dropna()\n",
    "\n",
    "outage_dur_median = np.median(data)\n",
    "outage_dur_upper_quartile = np.percentile(data, 75)\n",
    "lower_quartile = np.percentile(data, 25)\n",
    "\n",
    "iqr = outage_dur_upper_quartile - lower_quartile\n",
    "upper_whisker = data[data<=outage_dur_upper_quartile+1.5*iqr].max()\n",
    "lower_whisker = data[data>=lower_quartile-1.5*iqr].min()\n",
    "\n",
    "\n",
    "# Set the duration to be 2 days\n",
    "duration = outage_dur_upper_quartile\n",
    "trunc_per_cent = (sort_year['OUTAGE.DURATION']<duration).mean()\n",
    "\n",
    "figure, axis = plt.subplots(1, 2, figsize=(18,5))\n",
    "sort_year[sort_year['OUTAGE.DURATION']<duration]['OUTAGE.DURATION'].hist(ax = axis[0],bins=50)\n",
    "sort_year[sort_year['OUTAGE.DURATION']>=duration]['OUTAGE.DURATION'].hist(ax = axis[1],bins=50)\n",
    "axis[0].set_title(f'% outage less than 2 day:{trunc_per_cent}')\n",
    "axis[1].set_title(f'% outage more than 2 day:{1-trunc_per_cent}')\n",
    "plt.show()"
   ]
  },
  {
   "cell_type": "code",
   "execution_count": null,
   "metadata": {
    "id": "u-jizGSmomQ4",
    "outputId": "4384c2df-54b0-4205-d689-8b336e68afc9"
   },
   "outputs": [
    {
     "data": {
      "text/plain": [
       "2.0"
      ]
     },
     "execution_count": 16,
     "metadata": {
      "tags": []
     },
     "output_type": "execute_result"
    }
   ],
   "source": [
    "outage_dur_upper_quartile / 1440 "
   ]
  },
  {
   "cell_type": "markdown",
   "metadata": {
    "id": "HGB82JbVomQ5"
   },
   "source": [
    "The question that we are tackling prompts us to classify a major outage. After conducting univariate analysis for the \"OUTAGE.DURATION\" column, we observe that that the number of outages which last for more than 2 days is around 28.35%. From the box and whisker plot, we can observe that the upper quartile is 2 days (2880 minutes). Also, from intuition we can say that any outage which lasts more than 2 days (2880 minutes) should be considered as a major outage. Henceforth in our analysis, we will consider only the outages that last more than 2880 minutes."
   ]
  },
  {
   "cell_type": "code",
   "execution_count": 2,
   "metadata": {
    "id": "Jna2f4WQomQ5"
   },
   "outputs": [],
   "source": [
    "outage['major_outage'] =  outage['OUTAGE.DURATION']>outage_dur_upper_quartile"
   ]
  },
  {
   "cell_type": "markdown",
   "metadata": {
    "id": "0IpgueNnFsGH"
   },
   "source": [
    "Create a new column to check whether the state is inland or not by comparing water area & inland water area. Water area includes inland water and surrounded water which means that the states that are fully landlocked do not water as their borders"
   ]
  },
  {
   "cell_type": "code",
   "execution_count": 4,
   "metadata": {
    "id": "MaH1y9CgomQ5"
   },
   "outputs": [],
   "source": [
    "land_check = outage[['U.S._STATE','PCT_LAND','PCT_WATER_TOT', 'PCT_WATER_INLAND']]\n",
    "inland_states = land_check.drop_duplicates(subset = 'U.S._STATE').sort_values('U.S._STATE')\n",
    "\n",
    "inland_states['inland_state'] = inland_states['PCT_WATER_TOT'] == inland_states['PCT_WATER_INLAND']\n",
    "inland_states.sort_values('inland_state')\n",
    "select_dl = inland_states[['U.S._STATE','inland_state']].copy()\n",
    "hypo_check = outage.merge(select_dl, how='inner', on='U.S._STATE')\n",
    "hypo_check['inland_state'] = hypo_check['inland_state'].astype(float)\n",
    "# hypo_check.info()"
   ]
  },
  {
   "cell_type": "markdown",
   "metadata": {
    "id": "Cc9K5E8oomQ5"
   },
   "source": [
    "# **Baseline Model**"
   ]
  },
  {
   "cell_type": "markdown",
   "metadata": {
    "id": "B2k9HScnrW2c"
   },
   "source": [
    "Through our pipeline, we will be predicting whether an outage is “major”. To answer this question, we considered various categorical and numerical features. \n",
    "\n",
    "The categorical features consist of “CAUSE.CATEGORY”, “POSTAL.CODE”, “NERC.REGION”. There are a few reasons why we chose to include these features in our model. The “CAUSE.CATEGORY” helps us categorize all the events which cause the power outage. For instance, if the cause of an outage is due to severe weather, it could more likely be a “major” power outage. On the other hand, if the cause is “System disruption”, it most likely will not be classified as a major outage. Similarly, “POSTAL.CODE” feature is very helpful as it gives us the area of the power outage. Through our previous project (Project 3), we observed that the power outage duration is longer near the coastal states. This could be due to the severe weather near the coastal regions. Hence, it is important to select this feature as it could be the reason why a power outage is considered as “major”. Furthermore, “NERC.REGION” allows us to categorize these power outages to a specific region. As mentioned earlier, location plays an important role in classification.\n",
    "\n",
    "The numerical features we considered were “MONTH”, “ANOMALY.LEVEL”, “UTIL.CONTRI”, “PI.UTIL.OFUSA”, “TOTAL.CUSTOMERS”, “TOTAL.SALES”,  “POPDEN_UC”, “POPDEN_RURAL”, “POPULATION”, \"inland_state\". Considering the month as ordinal which is already converted and anomaly level of a power outage is important as it is related to weather, which in turn could give us information if a power outage is major or not. Total customers and total sales will tell us the size of the market which is helpful in answering whether a power outage is major or not. Intuitively, more the number of customers and sales in a region, the more likely it is that a power outage would be considered major. The remaining features are the urban/rural population density and the inland state. These features are equally important as if the population density is low and a power outage were to occur in that region, very few customers would be affected, making the power outage not “major”. The converse might also be true.\n"
   ]
  },
  {
   "cell_type": "code",
   "execution_count": null,
   "metadata": {
    "id": "bNOdtwZaomQ6",
    "outputId": "79ff1735-8989-4236-b013-c5c2d0463973"
   },
   "outputs": [
    {
     "name": "stdout",
     "output_type": "stream",
     "text": [
      "0.8320209973753281\n",
      "0.7591623036649214\n"
     ]
    }
   ],
   "source": [
    "test_mdl = hypo_check.dropna(subset=['MONTH'])[[\n",
    "    'MONTH','ANOMALY.LEVEL',\n",
    "    'CLIMATE.REGION','CAUSE.CATEGORY',\n",
    "    'POSTAL.CODE',\n",
    "    'NERC.REGION','UTIL.CONTRI','PI.UTIL.OFUSA',\n",
    "    'POPULATION',\n",
    "    'TOTAL.CUSTOMERS','TOTAL.SALES',\n",
    "    'POPDEN_UC', 'POPDEN_RURAL',    \n",
    "    'inland_state',\n",
    "    'major_outage',\n",
    "]]\n",
    "\n",
    "cat_feat= [\n",
    "    'CAUSE.CATEGORY',\n",
    "    'POSTAL.CODE',\n",
    "    'NERC.REGION'\n",
    "]\n",
    "num_feat = ['MONTH',\n",
    "            'ANOMALY.LEVEL',\n",
    "            'UTIL.CONTRI',\n",
    "            'PI.UTIL.OFUSA',\n",
    "            'TOTAL.CUSTOMERS','TOTAL.SALES',\n",
    "            'POPDEN_UC', 'POPDEN_RURAL',\n",
    "            'POPULATION',\n",
    "            'inland_state',\n",
    "           ]\n",
    "\n",
    "pl_cat_feat = Pipeline(\n",
    "    [('imp', SimpleImputer(strategy='constant', fill_value='NULL')),\n",
    "    ('cat_group', OneHotEncoder(handle_unknown='ignore', sparse=False)),\n",
    "    ('pca', PCA(svd_solver='full')),]\n",
    ")\n",
    "\n",
    "preproc = ColumnTransformer(\n",
    "transformers=[    \n",
    "    ('cat_group', pl_cat_feat, cat_feat),\n",
    "    ('num_group', SimpleImputer(strategy='constant', fill_value=0), num_feat),\n",
    "]\n",
    ")\n",
    "\n",
    "pl = Pipeline(\n",
    "    [ ('preprocessor',preproc)\n",
    "     ,('reg', KNeighborsClassifier())\n",
    "    ]\n",
    ")\n",
    "\n",
    "\n",
    "X, y = test_mdl.drop(['major_outage'], axis=1), test_mdl['major_outage']\n",
    "X_train, X_test, y_train, y_test = train_test_split(X, y)\n",
    "pl.fit(X_train, y_train)\n",
    "print(pl.score(X_train, y_train))\n",
    "print(pl.score(X_test, y_test))"
   ]
  },
  {
   "cell_type": "code",
   "execution_count": null,
   "metadata": {
    "id": "LH3XWUUdomQ6",
    "outputId": "561759ad-fe93-407a-99ac-301970b72728"
   },
   "outputs": [
    {
     "data": {
      "image/png": "[encoded data removed]",
      "text/plain": [
       "<Figure size 432x288 with 1 Axes>"
      ]
     },
     "metadata": {
      "image/png": {
       "height": 263,
       "width": 379
      },
      "needs_background": "light",
      "tags": []
     },
     "output_type": "display_data"
    },
    {
     "data": {
      "image/png": "[encoded data removed]",
      "text/plain": [
       "<Figure size 432x288 with 1 Axes>"
      ]
     },
     "metadata": {
      "image/png": {
       "height": 263,
       "width": 369
      },
      "needs_background": "light",
      "tags": []
     },
     "output_type": "display_data"
    },
    {
     "data": {
      "image/png": "[encoded data removed]",
      "text/plain": [
       "<Figure size 432x288 with 1 Axes>"
      ]
     },
     "metadata": {
      "image/png": {
       "height": 263,
       "width": 378
      },
      "needs_background": "light",
      "tags": []
     },
     "output_type": "display_data"
    }
   ],
   "source": [
    "N = 100\n",
    "train = []\n",
    "mean_acc_test = []\n",
    "recall = []\n",
    "X, y = test_mdl.drop(['major_outage'], axis=1), test_mdl['major_outage']\n",
    "for _ in range(N):\n",
    "    X_train, X_test, y_train, y_test = train_test_split(X, y)\n",
    "    pl = Pipeline(\n",
    "    [ ('preprocessor',preproc)\n",
    "     ,('reg', KNeighborsClassifier())\n",
    "    ]\n",
    ")\n",
    "    pl.fit(X_train, y_train)\n",
    "    train.append(pl.score(X_train, y_train))\n",
    "    preds = pl.predict(X_test)\n",
    "    mean_acc_test.append(pl.score(X_test, y_test))\n",
    "    recall.append(metrics.recall_score(y_test, preds))\n",
    "\n",
    "plt.hist(train)\n",
    "plt.title('Training accuracy')\n",
    "plt.show()\n",
    "plt.hist(mean_acc_test)\n",
    "plt.title('Test accuracy')\n",
    "plt.show()\n",
    "plt.hist(recall)\n",
    "plt.title('Test recall')\n",
    "plt.show()\n"
   ]
  },
  {
   "cell_type": "markdown",
   "metadata": {
    "id": "w6liC4dCJki-"
   },
   "source": [
    "In our baseline model, our accuracy with the training accuracy is not much higher than the test accuracy which does. This implies that we are not overfitting the model. The recall score, however, is quite low. It is the proportion of actual positives which were identified correctly. Our model is not good enough to predict if an outage is seriously long."
   ]
  },
  {
   "cell_type": "markdown",
   "metadata": {
    "id": "Js0N397momQ6"
   },
   "source": [
    "# **Final Model** "
   ]
  },
  {
   "cell_type": "code",
   "execution_count": 7,
   "metadata": {
    "id": "fHWSEN0pomQ6"
   },
   "outputs": [],
   "source": [
    "from sklearn.base import BaseEstimator, TransformerMixin\n",
    "\n",
    "class StdScalerByGroup(BaseEstimator, TransformerMixin):    \n",
    "    '''\n",
    "    standardize the dataset by group put in the first column that we want to use\n",
    "    '''\n",
    "    def __init__(self):\n",
    "        pass\n",
    "\n",
    "    def fit(self, X, y=None):\n",
    "        \"\"\"\n",
    "        \n",
    "        \"\"\"\n",
    "        # X may not be a pandas dataframe (e.g. a np.array)\n",
    "        df = pd.DataFrame(X)\n",
    "        # A dictionary of means/standard-deviations for each column, for each group.\n",
    "        first_col = df.columns[0]\n",
    "        mean_std_dct = {col:['mean',np.std] for col in df.columns[1:]}\n",
    "        self.grps_ = X.groupby(first_col).aggregate(mean_std_dct).T.to_dict()\n",
    "        return self\n",
    "\n",
    "    def transform(self, X, y=None):\n",
    "        \"\"\"\n",
    "        \"\"\"\n",
    "\n",
    "        try:\n",
    "            getattr(self, \"grps_\")\n",
    "        except AttributeError:\n",
    "            raise RuntimeError(\"You must fit the transformer before tranforming the data!\")        \n",
    "\n",
    "        def z_scale(x,group_mean,group_std):\n",
    "            if group_std == 0:\n",
    "                return 0\n",
    "            return (x-group_mean)/group_std\n",
    "\n",
    "        # X may not be a dataframe (e.g. np.array)\n",
    "        df = pd.DataFrame(X)\n",
    "        first_col = df.columns[0]\n",
    "        for group, item in self.grps_.items():\n",
    "            col = list(item)\n",
    "            for col_mean,col_std in zip(col[::2],col[1::2]):\n",
    "                col_name = col_mean[0]\n",
    "                # print(col_mean,item[col_mean],col_std,item[col_std])\n",
    "                df.loc[df[first_col] == group, col_name] = df[col_name].apply(\n",
    "                    z_scale,args=(item[col_mean], item[col_std])\n",
    "                    )        \n",
    "        return df.drop(columns=first_col)"
   ]
  },
  {
   "cell_type": "code",
   "execution_count": null,
   "metadata": {
    "id": "qX6U1EsyomQ7",
    "outputId": "41478747-320a-4fa5-917e-14bd0ae8b585",
    "scrolled": true
   },
   "outputs": [
    {
     "data": {
      "image/png": "[encoded data removed]",
      "text/plain": [
       "<Figure size 432x288 with 1 Axes>"
      ]
     },
     "metadata": {
      "image/png": {
       "height": 261,
       "width": 385
      },
      "needs_background": "light",
      "tags": []
     },
     "output_type": "display_data"
    }
   ],
   "source": [
    "ax1 = hypo_check.plot.scatter(x='OUTAGE.DURATION',y='UTIL.CONTRI',)"
   ]
  },
  {
   "cell_type": "markdown",
   "metadata": {
    "id": "scmhTBZKomQ7"
   },
   "source": [
    "Machine learning algorithms are highly sensitive to features which consists of varying degrees of magnitude, range, and units. It is important to consider feature scaling as it improves the performance of machine learning algorithms. We standardize total customers, population, electricity consumption, population density of urban/rural clusters by its state so that all the data is standardized and uniform across the board.\n",
    "\n",
    "We also standardize anomaly level & percentage of state utility sectors’ income by month because each month’s anomaly level would be different as weather is different in different months. Hence standardizing it by month for these two features is important.\n",
    "\n",
    "Based on the above graph, we log transformed it as it is the best way to respond to \"skewness\" in the data. Also, separating it into 10 quantiles helps us identify summary statistics of location and spread, investigate and compare shape of frequency distributions, identify any outliers, and divide data into equal size groups for further analysis."
   ]
  },
  {
   "cell_type": "code",
   "execution_count": 8,
   "metadata": {
    "id": "WshGOivQomQ7"
   },
   "outputs": [],
   "source": [
    "test_mdl = hypo_check.dropna(subset=['MONTH','TOTAL.SALES'])[[\n",
    "    'MONTH','ANOMALY.LEVEL',\n",
    "    'CAUSE.CATEGORY',\n",
    "    'POSTAL.CODE',\n",
    "    'NERC.REGION','UTIL.CONTRI','PI.UTIL.OFUSA',\n",
    "    'POPULATION',\n",
    "    'TOTAL.CUSTOMERS','TOTAL.SALES',\n",
    "    'POPDEN_UC', 'POPDEN_RURAL',\n",
    "    'inland_state',\n",
    "    'major_outage',\n",
    "]]\n",
    "\n",
    "z_scale = ['MONTH','ANOMALY.LEVEL','PI.UTIL.OFUSA',]\n",
    "z_scale_state = ['POSTAL.CODE','TOTAL.CUSTOMERS', 'POPULATION','TOTAL.SALES','POPDEN_UC', 'POPDEN_RURAL',]\n",
    "cat_feat= [\n",
    "    'CAUSE.CATEGORY',\n",
    "    'POSTAL.CODE',\n",
    "    'NERC.REGION',\n",
    "]\n",
    "num_feat = [\n",
    "    'MONTH',\n",
    "    'inland_state',\n",
    "]\n",
    "\n",
    "pl_cat_feat = Pipeline(\n",
    "    [('imp', SimpleImputer(strategy='constant', fill_value='NULL')),\n",
    "    ('cat_group', OneHotEncoder(handle_unknown='ignore', sparse=False)),\n",
    "    ('pca', PCA(svd_solver='full')),]\n",
    ")\n",
    "\n",
    "pl_z_scale = Pipeline(\n",
    "    [\n",
    "        ('z_scale',StdScalerByGroup()),\n",
    "        ('imp', SimpleImputer(strategy='constant', fill_value=0)),\n",
    "    ]\n",
    ")\n",
    "\n",
    "pl_log_feat = Pipeline([\n",
    "    ('log', FunctionTransformer(np.log)),\n",
    "   ('quantile', QuantileTransformer(n_quantiles=10)),\n",
    "])\n",
    "\n",
    "\n",
    "preproc = ColumnTransformer(\n",
    "transformers=[    \n",
    "    ('cat_group', pl_cat_feat, cat_feat), \n",
    "    ('log_group', pl_log_feat, ['UTIL.CONTRI',]),    \n",
    "\n",
    "    ('num_group',SimpleImputer(strategy='constant', fill_value=0),num_feat),\n",
    "    ('scale_gr', pl_z_scale, z_scale),\n",
    "    ('scale_state', pl_z_scale, z_scale_state),\n",
    "    \n",
    "]\n",
    ")\n",
    "\n",
    "pl = Pipeline(\n",
    "    [ ('preprocessor',preproc),\n",
    "     ('forest', RandomForestClassifier()),\n",
    "    ]\n",
    ")\n",
    "\n",
    "\n",
    "X, y = test_mdl.drop(['major_outage'], axis=1), test_mdl['major_outage']\n",
    "X_train, X_test, y_train, y_test = train_test_split(X, y)"
   ]
  },
  {
   "cell_type": "markdown",
   "metadata": {
    "id": "g6zR2hjwCFI1"
   },
   "source": [
    "**Why choose Random Forest over KNN classifier?**\n",
    "Before feature scaling, in our baseline model, we used K-Nearest-Neighbor’s algorithm. This did not perform well as we know that KNN is most by the “range” of features. This is because they use distances between data points to determine their similarity. We switch to Random Forest (over KNN) classifier for the final model because without proper scaling (baseline model) it is unfair treatment among features. Also, Random forest is faster due to KNN’s expensive real time execution."
   ]
  },
  {
   "cell_type": "code",
   "execution_count": 9,
   "metadata": {
    "colab": {
     "base_uri": "https://localhost:8080/"
    },
    "id": "uhm-4uCJomQ8",
    "outputId": "97681058-b12d-4572-cf68-5f51719ecb6e",
    "scrolled": true
   },
   "outputs": [
    {
     "data": {
      "text/plain": [
       "dict_keys(['memory', 'steps', 'verbose', 'preprocessor', 'forest', 'preprocessor__n_jobs', 'preprocessor__remainder', 'preprocessor__sparse_threshold', 'preprocessor__transformer_weights', 'preprocessor__transformers', 'preprocessor__verbose', 'preprocessor__cat_group', 'preprocessor__log_group', 'preprocessor__num_group', 'preprocessor__scale_gr', 'preprocessor__scale_state', 'preprocessor__cat_group__memory', 'preprocessor__cat_group__steps', 'preprocessor__cat_group__verbose', 'preprocessor__cat_group__imp', 'preprocessor__cat_group__cat_group', 'preprocessor__cat_group__pca', 'preprocessor__cat_group__imp__add_indicator', 'preprocessor__cat_group__imp__copy', 'preprocessor__cat_group__imp__fill_value', 'preprocessor__cat_group__imp__missing_values', 'preprocessor__cat_group__imp__strategy', 'preprocessor__cat_group__imp__verbose', 'preprocessor__cat_group__cat_group__categories', 'preprocessor__cat_group__cat_group__drop', 'preprocessor__cat_group__cat_group__dtype', 'preprocessor__cat_group__cat_group__handle_unknown', 'preprocessor__cat_group__cat_group__sparse', 'preprocessor__cat_group__pca__copy', 'preprocessor__cat_group__pca__iterated_power', 'preprocessor__cat_group__pca__n_components', 'preprocessor__cat_group__pca__random_state', 'preprocessor__cat_group__pca__svd_solver', 'preprocessor__cat_group__pca__tol', 'preprocessor__cat_group__pca__whiten', 'preprocessor__log_group__memory', 'preprocessor__log_group__steps', 'preprocessor__log_group__verbose', 'preprocessor__log_group__log', 'preprocessor__log_group__quantile', 'preprocessor__log_group__log__accept_sparse', 'preprocessor__log_group__log__check_inverse', 'preprocessor__log_group__log__func', 'preprocessor__log_group__log__inv_kw_args', 'preprocessor__log_group__log__inverse_func', 'preprocessor__log_group__log__kw_args', 'preprocessor__log_group__log__validate', 'preprocessor__log_group__quantile__copy', 'preprocessor__log_group__quantile__ignore_implicit_zeros', 'preprocessor__log_group__quantile__n_quantiles', 'preprocessor__log_group__quantile__output_distribution', 'preprocessor__log_group__quantile__random_state', 'preprocessor__log_group__quantile__subsample', 'preprocessor__num_group__add_indicator', 'preprocessor__num_group__copy', 'preprocessor__num_group__fill_value', 'preprocessor__num_group__missing_values', 'preprocessor__num_group__strategy', 'preprocessor__num_group__verbose', 'preprocessor__scale_gr__memory', 'preprocessor__scale_gr__steps', 'preprocessor__scale_gr__verbose', 'preprocessor__scale_gr__z_scale', 'preprocessor__scale_gr__imp', 'preprocessor__scale_gr__imp__add_indicator', 'preprocessor__scale_gr__imp__copy', 'preprocessor__scale_gr__imp__fill_value', 'preprocessor__scale_gr__imp__missing_values', 'preprocessor__scale_gr__imp__strategy', 'preprocessor__scale_gr__imp__verbose', 'preprocessor__scale_state__memory', 'preprocessor__scale_state__steps', 'preprocessor__scale_state__verbose', 'preprocessor__scale_state__z_scale', 'preprocessor__scale_state__imp', 'preprocessor__scale_state__imp__add_indicator', 'preprocessor__scale_state__imp__copy', 'preprocessor__scale_state__imp__fill_value', 'preprocessor__scale_state__imp__missing_values', 'preprocessor__scale_state__imp__strategy', 'preprocessor__scale_state__imp__verbose', 'forest__bootstrap', 'forest__ccp_alpha', 'forest__class_weight', 'forest__criterion', 'forest__max_depth', 'forest__max_features', 'forest__max_leaf_nodes', 'forest__max_samples', 'forest__min_impurity_decrease', 'forest__min_impurity_split', 'forest__min_samples_leaf', 'forest__min_samples_split', 'forest__min_weight_fraction_leaf', 'forest__n_estimators', 'forest__n_jobs', 'forest__oob_score', 'forest__random_state', 'forest__verbose', 'forest__warm_start'])"
      ]
     },
     "execution_count": 9,
     "metadata": {
      "tags": []
     },
     "output_type": "execute_result"
    }
   ],
   "source": [
    "pl.get_params().keys()"
   ]
  },
  {
   "cell_type": "markdown",
   "metadata": {
    "id": "NXvZMnu-omQ8"
   },
   "source": [
    "We want to maximize the recall score in order to help the citizens prepare for a long period of time without electricity"
   ]
  },
  {
   "cell_type": "code",
   "execution_count": null,
   "metadata": {
    "id": "-2iWkeI2omQ8",
    "outputId": "865435b8-80b6-425b-9288-d43c5a3530e5",
    "scrolled": true
   },
   "outputs": [
    {
     "data": {
      "text/plain": [
       "GridSearchCV(cv=5, error_score=nan,\n",
       "             estimator=Pipeline(memory=None,\n",
       "                                steps=[('preprocessor',\n",
       "                                        ColumnTransformer(n_jobs=None,\n",
       "                                                          remainder='drop',\n",
       "                                                          sparse_threshold=0.3,\n",
       "                                                          transformer_weights=None,\n",
       "                                                          transformers=[('cat_group',\n",
       "                                                                         Pipeline(memory=None,\n",
       "                                                                                  steps=[('imp',\n",
       "                                                                                          SimpleImputer(add_indicator=False,\n",
       "                                                                                                        copy=True,\n",
       "                                                                                                        fill_value='NULL',\n",
       "                                                                                                        missing_values=nan,\n",
       "                                                                                                        strategy='constant',\n",
       "                                                                                                        verbos...\n",
       "                                                               warm_start=False))],\n",
       "                                verbose=False),\n",
       "             iid='deprecated', n_jobs=None,\n",
       "             param_grid={'forest__max_depth': [1, 2, 3, 4, 5, 6, 7, 8, 9, 10,\n",
       "                                               11, 12, 13, 14, 15, 16, 17, 18,\n",
       "                                               19, None],\n",
       "                         'forest__n_estimators': [1, 6, 11, 16, 21, 26, 31, 36,\n",
       "                                                  41, 46, 51, 56, 61, 66, 71,\n",
       "                                                  76, 81, 86, 91, 96, 101, 106,\n",
       "                                                  111, 116, 121, 126, 131, 136,\n",
       "                                                  141, 146]},\n",
       "             pre_dispatch='2*n_jobs', refit=True, return_train_score=False,\n",
       "             scoring='recall', verbose=0)"
      ]
     },
     "execution_count": 45,
     "metadata": {
      "tags": []
     },
     "output_type": "execute_result"
    }
   ],
   "source": [
    "# How many combinations are there to search through?\n",
    "\n",
    "parameters = {\n",
    "    'forest__n_estimators': [i for i in range(1,150,5)], \n",
    "    'forest__max_depth':[i for i in range(1,20)]+[None],\n",
    "}\n",
    "\n",
    "clf = GridSearchCV(pl, param_grid=parameters,scoring='recall',cv = 5)\n",
    "# [len(v) for v in parameters.values()]\n",
    "clf.fit(X_train, y_train)\n"
   ]
  },
  {
   "cell_type": "markdown",
   "metadata": {
    "id": "ddVz33d1omQ8"
   },
   "source": [
    "We can see that having 11 decision trees in a forest with the max height to be 15 for each gives us a steady result towards improving recall score or predicing less incorrect label of a outage to be major so the citizens can be ready"
   ]
  },
  {
   "cell_type": "code",
   "execution_count": null,
   "metadata": {
    "id": "AxvGIp0BomQ9",
    "outputId": "e7e5a122-372b-47cc-9c78-bfef18381891"
   },
   "outputs": [
    {
     "data": {
      "text/plain": [
       "{'forest__max_depth': 15, 'forest__n_estimators': 11}"
      ]
     },
     "execution_count": 46,
     "metadata": {
      "tags": []
     },
     "output_type": "execute_result"
    }
   ],
   "source": [
    "clf.best_params_"
   ]
  },
  {
   "cell_type": "markdown",
   "metadata": {
    "id": "3Jm2mX9SLuW3"
   },
   "source": [
    "The best score below represents the recall score of the model"
   ]
  },
  {
   "cell_type": "code",
   "execution_count": null,
   "metadata": {
    "id": "gLYdX3-fomQ9",
    "outputId": "cf0be642-e748-42ba-8853-eb233526e78a"
   },
   "outputs": [
    {
     "data": {
      "text/plain": [
       "0.6035087719298246"
      ]
     },
     "execution_count": 47,
     "metadata": {
      "tags": []
     },
     "output_type": "execute_result"
    }
   ],
   "source": [
    "clf.best_score_"
   ]
  },
  {
   "cell_type": "markdown",
   "metadata": {
    "id": "soa2tpAFLzhY"
   },
   "source": [
    "The accuracy score of the model on the test dataset also increases quite a bit"
   ]
  },
  {
   "cell_type": "code",
   "execution_count": null,
   "metadata": {
    "id": "fg1DoCm_omQ9",
    "outputId": "e2308bda-5b89-45c8-ae01-9dbe773d9d26"
   },
   "outputs": [
    {
     "data": {
      "text/plain": [
       "0.8201058201058201"
      ]
     },
     "execution_count": 49,
     "metadata": {
      "tags": []
     },
     "output_type": "execute_result"
    }
   ],
   "source": [
    "clf.best_estimator_.score(X_test, y_test)"
   ]
  },
  {
   "cell_type": "code",
   "execution_count": null,
   "metadata": {
    "id": "HmhEt62gomQ-",
    "outputId": "058b46c1-2fb4-4ce1-c6a9-6dde3ede123c"
   },
   "outputs": [
    {
     "data": {
      "image/png": "[encoded data removed]",
      "text/plain": [
       "<Figure size 432x288 with 1 Axes>"
      ]
     },
     "metadata": {
      "image/png": {
       "height": 263,
       "width": 369
      },
      "needs_background": "light",
      "tags": []
     },
     "output_type": "display_data"
    },
    {
     "data": {
      "image/png": "[encoded data removed]",
      "text/plain": [
       "<Figure size 432x288 with 1 Axes>"
      ]
     },
     "metadata": {
      "image/png": {
       "height": 263,
       "width": 372
      },
      "needs_background": "light",
      "tags": []
     },
     "output_type": "display_data"
    },
    {
     "data": {
      "image/png": "[encoded data removed]",
      "text/plain": [
       "<Figure size 432x288 with 1 Axes>"
      ]
     },
     "metadata": {
      "image/png": {
       "height": 263,
       "width": 378
      },
      "needs_background": "light",
      "tags": []
     },
     "output_type": "display_data"
    }
   ],
   "source": [
    "N = 100\n",
    "train = []\n",
    "mean_acc_test = []\n",
    "recall = []\n",
    "X, y = test_mdl.drop(['major_outage'], axis=1), test_mdl['major_outage']\n",
    "for _ in range(N):\n",
    "    X_train, X_test, y_train, y_test = train_test_split(X, y)\n",
    "    pl = Pipeline(\n",
    "    [ ('preprocessor',preproc)\n",
    "     ,('reg', RandomForestClassifier(n_estimators=11, max_depth=15))\n",
    "    ]\n",
    ")\n",
    "    pl.fit(X_train, y_train)\n",
    "    train.append(pl.score(X_train, y_train))\n",
    "    preds = pl.predict(X_test)\n",
    "    mean_acc_test.append(pl.score(X_test, y_test))\n",
    "    recall.append(metrics.recall_score(y_test, preds))\n",
    "\n",
    "plt.hist(train)\n",
    "plt.title('Training accuracy')\n",
    "plt.show()\n",
    "plt.hist(mean_acc_test)\n",
    "plt.title('Test accuracy')\n",
    "plt.show()\n",
    "plt.hist(recall)\n",
    "plt.title('Test recall')\n",
    "plt.show()"
   ]
  },
  {
   "cell_type": "markdown",
   "metadata": {
    "id": "4bHQa9laJ9VN"
   },
   "source": [
    "In the final model, we observe that our training accuracy is much higher than the test accuracy compared to the previous model. This might be an overfitting problem that we have to remove some features or engineered features to remove the discrepancy. The test accuracy along with the test recall are also higher than the baseline model. We did feature engineering by standardizing multiple features. Also, we changed the methodology from KNN to a random forest classifier. The final model seems to have .1 higher recall score on average which shows us that the improvement is quite significant enough to help the citizens come prepared for a major outage"
   ]
  },
  {
   "cell_type": "markdown",
   "metadata": {
    "id": "HRjnGFUfomQ-"
   },
   "source": [
    "# **Fairness Evaluation**"
   ]
  },
  {
   "cell_type": "markdown",
   "metadata": {
    "id": "UMM1PKDTYb8d"
   },
   "source": [
    "We want to explore whether my model is fairer for coastal or inland state. For my parity measure, we will pick recall since reducing False negatives (predicting an outage to be not major even though the duration is more than 2 days) will be beneficial for the people to hoard things up in case an outage lasts for 2 or more days. "
   ]
  },
  {
   "cell_type": "markdown",
   "metadata": {
    "id": "N79Oi9tAomQ-"
   },
   "source": [
    "Null hypothesis: my model is fair; the recall for my two subsets are roughly the same. The states that are next to water suffered the same major outages as those that are inland \n",
    "\n",
    "Alternative hypothesis: my model is unfair; the recall for the inland subset is lower than the coastal subset. The states that are coastline have suffered more major outages than those that are inland"
   ]
  },
  {
   "cell_type": "code",
   "execution_count": 2,
   "metadata": {
    "id": "Dl9gXfLeomQ-"
   },
   "outputs": [],
   "source": [
    "pl = Pipeline(\n",
    "    [ ('preprocessor',preproc)\n",
    "     ,('reg', RandomForestClassifier(n_estimators=11, max_depth=15))\n",
    "    ]\n",
    ")\n",
    "\n",
    "X = test_mdl.drop('major_outage', axis=1)\n",
    "y = test_mdl.major_outage\n",
    "X_tr, X_ts, y_tr, y_ts = train_test_split(X,y)\n",
    "pl.fit(X_tr, y_tr)\n",
    "preds = pl.predict(X_test)"
   ]
  },
  {
   "cell_type": "code",
   "execution_count": 69,
   "metadata": {
    "colab": {
     "base_uri": "https://localhost:8080/"
    },
    "id": "UkKRZ6TM2Qll",
    "outputId": "698e6a1b-0b22-4567-9379-be9dcae6d84c"
   },
   "outputs": [
    {
     "data": {
      "text/plain": [
       "(0.582010582010582,\n",
       " 0.1455026455026455,\n",
       " 0.18518518518518517,\n",
       " 0.0873015873015873)"
      ]
     },
     "execution_count": 69,
     "metadata": {
      "tags": []
     },
     "output_type": "execute_result"
    }
   ],
   "source": [
    "tn, fp, fn, tp = metrics.confusion_matrix(y_ts, preds).ravel()/ len(preds)\n",
    "tn, fp, fn, tp"
   ]
  },
  {
   "cell_type": "code",
   "execution_count": 70,
   "metadata": {
    "colab": {
     "base_uri": "https://localhost:8080/",
     "height": 338
    },
    "id": "eLVIa0EromQ-",
    "outputId": "18f17fab-b0cb-4aae-f3e0-21690492e573"
   },
   "outputs": [
    {
     "name": "stderr",
     "output_type": "stream",
     "text": [
      "/usr/local/lib/python3.7/dist-packages/ipykernel_launcher.py:2: SettingWithCopyWarning: \n",
      "A value is trying to be set on a copy of a slice from a DataFrame.\n",
      "Try using .loc[row_indexer,col_indexer] = value instead\n",
      "\n",
      "See the caveats in the documentation: https://pandas.pydata.org/pandas-docs/stable/user_guide/indexing.html#returning-a-view-versus-a-copy\n",
      "  \n",
      "/usr/local/lib/python3.7/dist-packages/ipykernel_launcher.py:3: SettingWithCopyWarning: \n",
      "A value is trying to be set on a copy of a slice from a DataFrame.\n",
      "Try using .loc[row_indexer,col_indexer] = value instead\n",
      "\n",
      "See the caveats in the documentation: https://pandas.pydata.org/pandas-docs/stable/user_guide/indexing.html#returning-a-view-versus-a-copy\n",
      "  This is separate from the ipykernel package so we can avoid doing imports until\n"
     ]
    },
    {
     "data": {
      "text/html": [
       "<div>\n",
       "<style scoped>\n",
       "    .dataframe tbody tr th:only-of-type {\n",
       "        vertical-align: middle;\n",
       "    }\n",
       "\n",
       "    .dataframe tbody tr th {\n",
       "        vertical-align: top;\n",
       "    }\n",
       "\n",
       "    .dataframe thead th {\n",
       "        text-align: right;\n",
       "    }\n",
       "</style>\n",
       "<table border=\"1\" class=\"dataframe\">\n",
       "  <thead>\n",
       "    <tr style=\"text-align: right;\">\n",
       "      <th></th>\n",
       "      <th>recall</th>\n",
       "    </tr>\n",
       "    <tr>\n",
       "      <th>inland_state</th>\n",
       "      <th></th>\n",
       "    </tr>\n",
       "  </thead>\n",
       "  <tbody>\n",
       "    <tr>\n",
       "      <th>0.0</th>\n",
       "      <td>0.337209</td>\n",
       "    </tr>\n",
       "    <tr>\n",
       "      <th>1.0</th>\n",
       "      <td>0.235294</td>\n",
       "    </tr>\n",
       "  </tbody>\n",
       "</table>\n",
       "</div>"
      ],
      "text/plain": [
       "                recall\n",
       "inland_state          \n",
       "0.0           0.337209\n",
       "1.0           0.235294"
      ]
     },
     "execution_count": 70,
     "metadata": {
      "tags": []
     },
     "output_type": "execute_result"
    }
   ],
   "source": [
    "results = X_ts\n",
    "results['prediction'] = preds\n",
    "results['major'] = y_ts\n",
    "(\n",
    "    results\n",
    "    .groupby('inland_state')\n",
    "    .apply(lambda x: metrics.recall_score(x.major, x.prediction))\n",
    "    .rename('recall')\n",
    "    .to_frame()\n",
    ")"
   ]
  },
  {
   "cell_type": "code",
   "execution_count": 71,
   "metadata": {
    "id": "MT4AuHthomQ_"
   },
   "outputs": [],
   "source": [
    "obs = results.groupby('inland_state').apply(lambda x: metrics.recall_score(x.major, x.prediction)).diff().iloc[-1]\n",
    "\n",
    "metrs = []\n",
    "for _ in range(100):\n",
    "    s = (\n",
    "        results[['inland_state', 'prediction', 'major']]\n",
    "        .assign(inland_state=results.inland_state.sample(frac=1.0, replace=False).reset_index(drop=True))\n",
    "        .groupby('inland_state')\n",
    "        .apply(lambda x: metrics.recall_score(x.major, x.prediction))\n",
    "        .diff()\n",
    "        .iloc[-1]\n",
    "    )\n",
    "    \n",
    "    metrs.append(s)"
   ]
  },
  {
   "cell_type": "code",
   "execution_count": 72,
   "metadata": {
    "colab": {
     "base_uri": "https://localhost:8080/",
     "height": 297
    },
    "id": "i85hy0fWomQ_",
    "outputId": "e270ea7b-75c2-4a8e-9e3f-6c0f211fafda",
    "scrolled": true
   },
   "outputs": [
    {
     "name": "stdout",
     "output_type": "stream",
     "text": [
      "p-value of the hypothesis: 0.34\n"
     ]
    },
    {
     "data": {
      "image/png": "[encoded data removed]",
      "text/plain": [
       "<Figure size 432x288 with 1 Axes>"
      ]
     },
     "metadata": {
      "image/png": {
       "height": 263,
       "width": 412
      },
      "needs_background": "light",
      "tags": []
     },
     "output_type": "display_data"
    }
   ],
   "source": [
    "pval = pd.Series(metrs <= obs).mean()\n",
    "print(f'p-value of the hypothesis: {pval}')\n",
    "# print(obs)\n",
    "pd.Series(metrs).plot(kind='hist', title='Permutation Test for major outage across inland/coastal states')\n",
    "plt.scatter(obs, 1, c='orange');"
   ]
  },
  {
   "cell_type": "markdown",
   "metadata": {
    "id": "dz9A6PCSkj8H"
   },
   "source": [
    "The orange dot does not appear for some reason but it should be around -0.1"
   ]
  },
  {
   "cell_type": "markdown",
   "metadata": {
    "id": "gv5uR3AGomQ_"
   },
   "source": [
    "Since the p-value of the permutation test is .34 which much greater than .05, we do not reject the null hypothesis. Even though our model is not good at predicting the true major outage, it does not discriminate whether a state is inland or coastal to have more or less seriously long outage"
   ]
  }
 ],
 "metadata": {
  "colab": {
   "collapsed_sections": [],
   "name": "proj5_outages-Copy2.ipynb",
   "provenance": [],
   "toc_visible": true
  },
  "kernelspec": {
   "display_name": "Python 3",
   "language": "python",
   "name": "python3"
  },
  "language_info": {
   "codemirror_mode": {
    "name": "ipython",
    "version": 3
   },
   "file_extension": ".py",
   "mimetype": "text/x-python",
   "name": "python",
   "nbconvert_exporter": "python",
   "pygments_lexer": "ipython3",
   "version": "3.7.6"
  }
 },
 "nbformat": 4,
 "nbformat_minor": 1
}
